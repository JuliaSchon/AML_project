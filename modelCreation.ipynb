{
 "cells": [
  {
   "cell_type": "code",
   "execution_count": 194,
   "id": "5d00b6b0",
   "metadata": {},
   "outputs": [],
   "source": [
    "import numpy as np\n",
    "import pandas as pd\n",
    "import matplotlib.pyplot as plt\n",
    "\n",
    "from matplotlib import pyplot\n",
    "from sklearn.decomposition import PCA\n",
    "from sklearn.preprocessing import StandardScaler\n",
    "from sklearn.model_selection import train_test_split\n",
    "from sklearn.linear_model import LinearRegression\n",
    "from sklearn.metrics import mean_squared_error\n",
    "import seaborn as sns\n",
    "from sklearn.metrics import r2_score\n",
    "from sklearn.ensemble import RandomForestClassifier  # For classification\n",
    "from sklearn.ensemble import RandomForestRegressor  # For regression\n",
    "from sklearn.metrics import accuracy_score \n",
    "from imblearn.over_sampling import SMOTE\n",
    "from sklearn.metrics import classification_report\n",
    "from sklearn.metrics import confusion_matrix\n",
    "from sklearn.naive_bayes import GaussianNB\n",
    "from sklearn.metrics import accuracy_score, classification_report\n",
    "from sklearn.ensemble import GradientBoostingRegressor\n",
    "from sklearn.ensemble import GradientBoostingClassifier\n",
    "from sklearn.model_selection import train_test_split\n",
    "from sklearn.metrics import mean_squared_error, r2_score, classification_report\n",
    "from sklearn.metrics import roc_auc_score\n",
    "from sklearn.metrics import f1_score\n",
    "import xgboost as xgb\n",
    "from xgboost import XGBClassifier"
   ]
  },
  {
   "cell_type": "code",
   "execution_count": 195,
   "id": "22aa5154",
   "metadata": {},
   "outputs": [],
   "source": [
    "df = pd.read_csv(\"df_clean_top10.csv\", delimiter = \",\")"
   ]
  },
  {
   "cell_type": "markdown",
   "id": "3c64ff9a",
   "metadata": {},
   "source": [
    "# Prepare data for Model"
   ]
  },
  {
   "cell_type": "code",
   "execution_count": 196,
   "id": "cef9b8df",
   "metadata": {},
   "outputs": [],
   "source": [
    "#define features and label. Song characteristics is the numerical features\n",
    "features = ['Danceability', 'Energy', 'Loudness', 'Speechiness', 'Acousticness', 'Instrumentalness',\n",
    "       'Valence', 'Previous Popularity', \"Number of Artists\", 'Number Songs Previous', 'Previous Top Rank Avg']\n",
    "song_characteristics = ['Danceability', 'Energy', 'Loudness', 'Speechiness', 'Acousticness', 'Instrumentalness','Valence']\n",
    "label = ['Top 10']"
   ]
  },
  {
   "cell_type": "code",
   "execution_count": 197,
   "id": "f4173d61",
   "metadata": {},
   "outputs": [],
   "source": [
    "X = df[features]\n",
    "y = df[label]\n",
    "\n",
    "# # Use SMOTE to oversample the minority class in the training set\n",
    "# smote = SMOTE(sampling_strategy=1, random_state=42)\n",
    "# X,y = smote.fit_resample(X,y)\n",
    "\n",
    "X = X.values\n",
    "y = y.values.reshape(-1)\n",
    "\n",
    "# Split the data into train and test sets\n",
    "X_train, X_test, y_train, y_test = train_test_split(X, y, test_size=0.2, random_state=42, stratify=y)\n",
    "X_train_val, X_val, y_train_val, y_val = train_test_split(X_train, y_train, test_size = 0.2, random_state=42, stratify=y_train)\n",
    "\n",
    "\n",
    "\n",
    "# Use SMOTE to oversample the minority class in the training set\n",
    "smote = SMOTE(sampling_strategy=1, random_state=42)\n",
    "X_train,y_train = smote.fit_resample(X_train,y_train)\n",
    "\n",
    "\n",
    "# Use SMOTE to oversample the minority class in the training set\n",
    "smote = SMOTE(sampling_strategy=1, random_state=42)\n",
    "X_test,y_test = smote.fit_resample(X_test,y_test)\n",
    "\n",
    "\n",
    "# Use SMOTE to oversample the minority class in the training set\n",
    "smote = SMOTE(sampling_strategy=1, random_state=42)\n",
    "X_train_val,y_train_val = smote.fit_resample(X_train_val,y_train_val)\n",
    "\n",
    "# Use SMOTE to oversample the minority class in the training set\n",
    "smote = SMOTE(sampling_strategy=1, random_state=42)\n",
    "X_val,y_val = smote.fit_resample(X_val,y_val)\n"
   ]
  },
  {
   "cell_type": "code",
   "execution_count": 198,
   "id": "efb36d3e",
   "metadata": {},
   "outputs": [],
   "source": [
    "from sklearn.metrics import roc_curve, roc_auc_score\n",
    "#function to make the AUC_ROC graph for all models created on the validation set\n",
    "\n",
    "roc = []\n",
    "\n",
    "def makeGraph(y_val, X_val, models, model_names):\n",
    "    plt.figure(figsize=(8, 8))\n",
    "\n",
    "    for model, name in zip(models, model_names):\n",
    "        y_true = y_val\n",
    "        y_probas = model.predict_proba(X_val)[:, 1]\n",
    "\n",
    "        roc_auc = roc_auc_score(y_true, y_probas)\n",
    "        print(f'{name} ROC AUC:', roc_auc)\n",
    "        roc.append(roc_auc)\n",
    "\n",
    "        fpr, tpr, _ = roc_curve(y_true, y_probas)\n",
    "\n",
    "        plt.plot(fpr, tpr, label=f'{name} (AUC = {roc_auc:.2f})')\n",
    "\n",
    "    plt.xlabel('False Positive Rate')\n",
    "    plt.ylabel('True Positive Rate')\n",
    "    plt.title('ROC Curve')\n",
    "    plt.legend(loc='lower right') \n",
    "    plt.show()"
   ]
  },
  {
   "cell_type": "code",
   "execution_count": 199,
   "id": "c0c883a4",
   "metadata": {},
   "outputs": [],
   "source": [
    "#list to keep track of models and model_names\n",
    "models = []\n",
    "model_names = []"
   ]
  },
  {
   "cell_type": "markdown",
   "id": "d3df5db5",
   "metadata": {},
   "source": [
    "# Different models with no parameter adjustment"
   ]
  },
  {
   "cell_type": "code",
   "execution_count": 200,
   "id": "214a4c48",
   "metadata": {},
   "outputs": [
    {
     "name": "stdout",
     "output_type": "stream",
     "text": [
      "Accuracy: 0.7943067033976124\n",
      "ROC_AUC_SCORE: 0.7943067033976124\n",
      "F1: 0.810008481764207\n",
      "Classification Report:\n",
      "               precision    recall  f1-score   support\n",
      "\n",
      "       False       0.85      0.71      0.78      1089\n",
      "        True       0.75      0.88      0.81      1089\n",
      "\n",
      "    accuracy                           0.79      2178\n",
      "   macro avg       0.80      0.79      0.79      2178\n",
      "weighted avg       0.80      0.79      0.79      2178\n",
      "\n"
     ]
    }
   ],
   "source": [
    "from sklearn.model_selection import train_test_split\n",
    "from sklearn.naive_bayes import GaussianNB\n",
    "from sklearn.metrics import accuracy_score, classification_report\n",
    "\n",
    "\n",
    "# Create a Gaussian Naive Bayes model\n",
    "gnb = GaussianNB()\n",
    "\n",
    "# Fit the model to your training data\n",
    "gnb.fit(X_train_val, y_train_val)\n",
    "\n",
    "# Make predictions on the val data\n",
    "y_pred = gnb.predict(X_val)\n",
    "\n",
    "# Evaluate the model\n",
    "accuracy = accuracy_score(y_val, y_pred)\n",
    "report = classification_report(y_val, y_pred)\n",
    "r = roc_auc_score(y_val, y_pred)\n",
    "y_pred = gnb.predict(X_val)\n",
    "f1 = f1_score(y_val, y_pred)\n",
    "\n",
    "models.append(gnb)\n",
    "model_names.append(\"Gaussian NB\")\n",
    "\n",
    "# Print the evaluation metrics\n",
    "print(\"Accuracy:\", accuracy)\n",
    "print(\"ROC_AUC_SCORE: \" + str(r))\n",
    "print(\"F1: \" + str(f1))\n",
    "\n",
    "print(\"Classification Report:\\n\", report)"
   ]
  },
  {
   "cell_type": "code",
   "execution_count": 201,
   "id": "b4a5d8d5",
   "metadata": {},
   "outputs": [
    {
     "name": "stdout",
     "output_type": "stream",
     "text": [
      "[00:24:14] WARNING: /croot/xgboost-split_1675457761144/work/src/learner.cc:767: \n",
      "Parameters: { \"enable_categorial\" } are not used.\n",
      "\n",
      "Accuracy: 0.7943067033976124\n",
      "ROC_AUC_SCORE: 0.7943067033976124\n",
      "F1: 0.9080145719489982\n",
      "Classification Report:\n",
      "               precision    recall  f1-score   support\n",
      "\n",
      "       False       0.85      0.71      0.78      1089\n",
      "        True       0.75      0.88      0.81      1089\n",
      "\n",
      "    accuracy                           0.79      2178\n",
      "   macro avg       0.80      0.79      0.79      2178\n",
      "weighted avg       0.80      0.79      0.79      2178\n",
      "\n"
     ]
    }
   ],
   "source": [
    "#Create an Extreme Gradient Boosting Classifier\n",
    "xgbClass = XGBClassifier(enable_categorial=True)\n",
    "\n",
    "# Fit the model to your training data\n",
    "xgbClass.fit(X_train_val, y_train_val)\n",
    "\n",
    "# Evaluate the model\n",
    "accuracy = accuracy_score(y_val, y_pred)\n",
    "report = classification_report(y_val, y_pred)\n",
    "r = roc_auc_score(y_val, y_pred)\n",
    "y_pred = model.predict(X_val)\n",
    "f1 = f1_score(y_val, y_pred)\n",
    "\n",
    "# Make predictions on the val data\n",
    "y_pred = xgbClass.predict(X_val)\n",
    "\n",
    "models.append(xgbClass)\n",
    "model_names.append(\"XGB Classifier\")\n",
    "\n",
    "print(\"Accuracy:\", accuracy)\n",
    "print(\"ROC_AUC_SCORE: \" + str(r))\n",
    "print(\"F1: \" + str(f1))\n",
    "\n",
    "print(\"Classification Report:\\n\", report)\n"
   ]
  },
  {
   "cell_type": "code",
   "execution_count": 202,
   "id": "72c7c58d",
   "metadata": {},
   "outputs": [
    {
     "name": "stdout",
     "output_type": "stream",
     "text": [
      "Accuracy: 0.8168044077134986\n",
      "ROC_AUC_SCORE: 0.7943067033976124\n",
      "F1: 0.8249232119350592\n",
      "Classification Report:\n",
      "               precision    recall  f1-score   support\n",
      "\n",
      "       False       0.85      0.77      0.81      1089\n",
      "        True       0.79      0.86      0.82      1089\n",
      "\n",
      "    accuracy                           0.82      2178\n",
      "   macro avg       0.82      0.82      0.82      2178\n",
      "weighted avg       0.82      0.82      0.82      2178\n",
      "\n"
     ]
    }
   ],
   "source": [
    "from sklearn.linear_model import LogisticRegression\n",
    "from sklearn.metrics import f1_score\n",
    "from sklearn.metrics import roc_curve, roc_auc_score\n",
    "\n",
    "\n",
    "# Create a Logistic Regression model\n",
    "lr = LogisticRegression(max_iter=1000)\n",
    "\n",
    "# Fit the model to your training data\n",
    "lr.fit(X_train_val, y_train_val)\n",
    "\n",
    "# Make predictions on the val data\n",
    "y_pred = lr.predict(X_val)\n",
    "y_probas = lr.predict_proba(X_val)[:, 1]\n",
    "\n",
    "# Evaluate the model\n",
    "accuracy = accuracy_score(y_val, y_pred)\n",
    "f1 = f1_score(y_val, y_pred)\n",
    "roc_auc = roc_auc_score(y_val, y_probas)\n",
    "report = classification_report(y_val, y_pred)\n",
    "confusion = confusion_matrix(y_val, y_pred)\n",
    "\n",
    "print(\"Accuracy:\", accuracy)\n",
    "print(\"ROC_AUC_SCORE: \" + str(r))\n",
    "print(\"F1: \" + str(f1))\n",
    "\n",
    "print(\"Classification Report:\\n\", report)\n",
    "\n",
    "models.append(lr)\n",
    "model_names.append(\"Logistic Regression\")"
   ]
  },
  {
   "cell_type": "code",
   "execution_count": 203,
   "id": "a2595825",
   "metadata": {},
   "outputs": [
    {
     "name": "stdout",
     "output_type": "stream",
     "text": [
      "Accuracy: 0.8213957759412305\n",
      "ROC_AUC_SCORE: 0.7943067033976124\n",
      "F1: 0.8302051505892624\n",
      "Classification Report:\n",
      "               precision    recall  f1-score   support\n",
      "\n",
      "       False       0.86      0.77      0.81      1089\n",
      "        True       0.79      0.87      0.83      1089\n",
      "\n",
      "    accuracy                           0.82      2178\n",
      "   macro avg       0.82      0.82      0.82      2178\n",
      "weighted avg       0.82      0.82      0.82      2178\n",
      "\n"
     ]
    }
   ],
   "source": [
    "from sklearn.svm import SVC\n",
    "\n",
    "from sklearn.linear_model import LogisticRegression\n",
    "from sklearn.metrics import f1_score\n",
    "from sklearn.metrics import roc_curve, roc_auc_score\n",
    "\n",
    "\n",
    "# Create a SVM model\n",
    "svc = SVC(kernel='linear', probability=True)\n",
    "\n",
    "# Fit the model to your training data\n",
    "svc.fit(X_train_val, y_train_val)\n",
    "\n",
    "# Make predictions on the val data\n",
    "y_pred = svc.predict(X_val)\n",
    "y_probas = svc.predict_proba(X_val)[:, 1]\n",
    "\n",
    "# Evaluate the model\n",
    "accuracy = accuracy_score(y_val, y_pred)\n",
    "f1 = f1_score(y_val, y_pred)\n",
    "roc_auc = roc_auc_score(y_val, y_probas)\n",
    "report = classification_report(y_val, y_pred)\n",
    "confusion = confusion_matrix(y_val, y_pred)\n",
    "\n",
    "print(\"Accuracy:\", accuracy)\n",
    "print(\"ROC_AUC_SCORE: \" + str(r))\n",
    "print(\"F1: \" + str(f1))\n",
    "\n",
    "print(\"Classification Report:\\n\", report)\n",
    "\n",
    "models.append(svc)\n",
    "model_names.append(\"SVM\")\n"
   ]
  },
  {
   "cell_type": "code",
   "execution_count": 204,
   "id": "2586667e",
   "metadata": {},
   "outputs": [
    {
     "name": "stdout",
     "output_type": "stream",
     "text": [
      "Accuracy: 0.8076216712580349\n",
      "ROC_AUC_SCORE: 0.7943067033976124\n",
      "F1: 0.7988478156505041\n",
      "Classification Report:\n",
      "               precision    recall  f1-score   support\n",
      "\n",
      "       False       0.78      0.85      0.82      1089\n",
      "        True       0.84      0.76      0.80      1089\n",
      "\n",
      "    accuracy                           0.81      2178\n",
      "   macro avg       0.81      0.81      0.81      2178\n",
      "weighted avg       0.81      0.81      0.81      2178\n",
      "\n"
     ]
    }
   ],
   "source": [
    "from sklearn.svm import SVC\n",
    "from sklearn.linear_model import LogisticRegression\n",
    "from sklearn.metrics import f1_score\n",
    "from sklearn.metrics import roc_curve, roc_auc_score\n",
    "from sklearn.neighbors import KNeighborsClassifier\n",
    "\n",
    "# Create a KNearestNeighbors model\n",
    "knn_clf = KNeighborsClassifier()\n",
    "\n",
    "# Fit the model to your training data\n",
    "knn_clf.fit(X_train_val, y_train_val)\n",
    "\n",
    "# Make predictions on the val data\n",
    "y_pred = knn_clf.predict(X_val)\n",
    "y_probas = knn_clf.predict_proba(X_val)[:, 1]\n",
    "\n",
    "# Evaluate the model\n",
    "accuracy = accuracy_score(y_val, y_pred)\n",
    "f1 = f1_score(y_val, y_pred)\n",
    "roc_auc = roc_auc_score(y_val, y_probas)\n",
    "report = classification_report(y_val, y_pred)\n",
    "confusion = confusion_matrix(y_val, y_pred)\n",
    "\n",
    "print(\"Accuracy:\", accuracy)\n",
    "print(\"ROC_AUC_SCORE: \" + str(r))\n",
    "print(\"F1: \" + str(f1))\n",
    "\n",
    "print(\"Classification Report:\\n\", report)\n",
    "\n",
    "models.append(knn_clf)\n",
    "model_names.append(\"KNN\")\n"
   ]
  },
  {
   "cell_type": "code",
   "execution_count": 205,
   "id": "19f439a6",
   "metadata": {},
   "outputs": [
    {
     "name": "stdout",
     "output_type": "stream",
     "text": [
      "Accuracy: 0.8806244260789715\n",
      "ROC_AUC_SCORE: 0.7943067033976124\n",
      "F1: 0.8711595639246779\n",
      "Classification Report:\n",
      "               precision    recall  f1-score   support\n",
      "\n",
      "       False       0.83      0.95      0.89      1089\n",
      "        True       0.95      0.81      0.87      1089\n",
      "\n",
      "    accuracy                           0.88      2178\n",
      "   macro avg       0.89      0.88      0.88      2178\n",
      "weighted avg       0.89      0.88      0.88      2178\n",
      "\n"
     ]
    }
   ],
   "source": [
    "#create a random forest classifier\n",
    "rf = RandomForestClassifier(random_state=42)\n",
    "\n",
    "# Fit the model to your training data\n",
    "rf.fit(X_train_val, y_train_val)\n",
    "\n",
    "# Make predictions on the val data\n",
    "y_pred = rf.predict(X_val)\n",
    "y_probas = rf.predict_proba(X_val)[:, 1]\n",
    "\n",
    "# Evaluate the model\n",
    "accuracy = accuracy_score(y_val, y_pred)\n",
    "f1 = f1_score(y_val, y_pred)\n",
    "roc_auc = roc_auc_score(y_val, y_probas)\n",
    "report = classification_report(y_val, y_pred)\n",
    "confusion = confusion_matrix(y_val, y_pred)\n",
    "\n",
    "print(\"Accuracy:\", accuracy)\n",
    "print(\"ROC_AUC_SCORE: \" + str(r))\n",
    "print(\"F1: \" + str(f1))\n",
    "\n",
    "print(\"Classification Report:\\n\", report)\n",
    "\n",
    "models.append(model)\n",
    "model_names.append(\"RF\")"
   ]
  },
  {
   "cell_type": "code",
   "execution_count": 206,
   "id": "6c6db4b5",
   "metadata": {},
   "outputs": [
    {
     "name": "stdout",
     "output_type": "stream",
     "text": [
      "Accuracy: 0.9072543617998163\n",
      "ROC_AUC_SCORE: 0.7943067033976124\n",
      "F1: 0.9085144927536232\n",
      "Classification Report:\n",
      "               precision    recall  f1-score   support\n",
      "\n",
      "       False       0.92      0.89      0.91      1089\n",
      "        True       0.90      0.92      0.91      1089\n",
      "\n",
      "    accuracy                           0.91      2178\n",
      "   macro avg       0.91      0.91      0.91      2178\n",
      "weighted avg       0.91      0.91      0.91      2178\n",
      "\n"
     ]
    }
   ],
   "source": [
    "# Import necessary libraries\n",
    "from sklearn.ensemble import GradientBoostingRegressor\n",
    "from sklearn.ensemble import GradientBoostingClassifier\n",
    "from sklearn.model_selection import train_test_split\n",
    "from sklearn.metrics import mean_squared_error, r2_score, classification_report\n",
    "\n",
    "\n",
    "# Create a GradientBoostingClassifier model\n",
    "gb = GradientBoostingClassifier(n_estimators=100, learning_rate=0.1, random_state=42)\n",
    "\n",
    "# Fit the model to your training data\n",
    "gb.fit(X_train_val, y_train_val)\n",
    "\n",
    "# Make predictions on the val data\n",
    "y_pred = gb.predict(X_val)\n",
    "\n",
    "# Evaluate the model\n",
    "accuracy = accuracy_score(y_val, y_pred)\n",
    "report = classification_report(y_val, y_pred)\n",
    "y_pred = gb.predict(X_val)\n",
    "f1 = f1_score(y_val, y_pred)\n",
    "\n",
    "models.append(gb)\n",
    "model_names.append(\"Gradient Boosting\")\n",
    "\n",
    "# Print the evaluation metrics\n",
    "print(\"Accuracy:\", accuracy)\n",
    "print(\"ROC_AUC_SCORE: \" + str(r))\n",
    "print(\"F1: \" + str(f1))\n",
    "\n",
    "print(\"Classification Report:\\n\", report)"
   ]
  },
  {
   "cell_type": "code",
   "execution_count": 207,
   "id": "44bc2570",
   "metadata": {},
   "outputs": [
    {
     "name": "stdout",
     "output_type": "stream",
     "text": [
      "Gaussian NB ROC AUC: 0.8509529724155319\n",
      "XGB Classifier ROC AUC: 0.9674919324305751\n",
      "Logistic Regression ROC AUC: 0.9049599425256826\n",
      "SVM ROC AUC: 0.9058002177210791\n",
      "KNN ROC AUC: 0.8571506871031038\n",
      "RF ROC AUC: 0.9695030276047056\n",
      "Gradient Boosting ROC AUC: 0.9681614542621304\n"
     ]
    },
    {
     "data": {
      "image/png": "[encoded data removed]",
      "text/plain": [
       "<Figure size 800x800 with 1 Axes>"
      ]
     },
     "metadata": {},
     "output_type": "display_data"
    }
   ],
   "source": [
    "#use makeGraph function to display auc_roc scores and ROC curve\n",
    "makeGraph(y_val, X_val, models, model_names)"
   ]
  },
  {
   "cell_type": "markdown",
   "id": "b7ba9220",
   "metadata": {},
   "source": [
    "## Param Tuning XGB Classifier and testing on Test Set"
   ]
  },
  {
   "cell_type": "code",
   "execution_count": 208,
   "id": "7dbbde67",
   "metadata": {},
   "outputs": [
    {
     "name": "stdout",
     "output_type": "stream",
     "text": [
      "Best Hyperparameters:\n",
      "n_estimators: 200\n",
      "max_depth: None\n",
      "Best F1: 0.9190880643719266\n",
      "Best Learning: 0.01\n",
      "Best Colsample: 0.8\n",
      "Best Sub: 0.9\n"
     ]
    }
   ],
   "source": [
    "# Define the hyperparameter values to search over\n",
    "n_estimators_values = [100, 200, 300]\n",
    "learning_rate = [0.01, 0.1, 0.2]\n",
    "max_depth_values = [None, 5, 10]\n",
    "subsample = [0.8, 0.9, 1.0]\n",
    "colsample_bytree = [0.8, 0.9, 1.0]\n",
    "\n",
    "# Initialize variables for best hyperparameters and best accuracy\n",
    "best_n_estimators = None\n",
    "best_max_depth = None\n",
    "best_f1 = 0\n",
    "best_sub = 0\n",
    "best_colsample = 0\n",
    "best_learning = 0\n",
    "\n",
    "# Iterate over each combination of hyperparameters\n",
    "for n_estimators in n_estimators_values:\n",
    "    for max_depth in max_depth_values:\n",
    "        for sub in subsample:\n",
    "            for colsample in colsample_bytree:\n",
    "                for learning in learning_rate:\n",
    "                # Create a Random Forest classifier model with current hyperparameters\n",
    "                    xgbClass = XGBClassifier( \n",
    "                        subsample=sub,\n",
    "                        colsample_bytree=colsample,\n",
    "                        n_estimators = n_estimators,\n",
    "                        learning_rate = learning,\n",
    "                        objective='binary:logistic',  \n",
    "                        eval_metric='logloss',\n",
    "                        random_state = 42\n",
    "                    )\n",
    "\n",
    "                    # Fit the model to your training data\n",
    "                    xgbClass.fit(X_train_val, y_train_val)\n",
    "\n",
    "                    # Make predictions on the val data\n",
    "                    y_pred = xgbClass.predict(X_val)\n",
    "                    f1 = f1_score(y_val, y_pred)\n",
    "                    # Check if the current accuracy is better than the previous best accuracy\n",
    "                    if f1 > best_f1:\n",
    "                        # Update the best hyperparameters and best accuracy\n",
    "                        best_n_estimators = n_estimators\n",
    "                        best_max_depth = max_depth\n",
    "                        best_accuracy = accuracy\n",
    "                        best_learning = learning\n",
    "                        best_colsample = colsample\n",
    "                        best_sub = sub\n",
    "                        best_f1 = f1\n",
    "\n",
    "# Print the best hyperparameters and best F1 score\n",
    "print(\"Best Hyperparameters:\")\n",
    "print(\"n_estimators:\", best_n_estimators)\n",
    "print(\"max_depth:\", best_max_depth)\n",
    "print(\"Best F1:\", best_f1)\n",
    "print(\"Best Learning:\", best_learning)\n",
    "print(\"Best Colsample:\", best_colsample)\n",
    "print(\"Best Sub:\", best_sub)\n"
   ]
  },
  {
   "cell_type": "code",
   "execution_count": 209,
   "id": "270be2d9",
   "metadata": {},
   "outputs": [
    {
     "name": "stdout",
     "output_type": "stream",
     "text": [
      "ROC_AUC: 0.9688385651320787\n",
      "F1: 0.9115281501340482\n"
     ]
    }
   ],
   "source": [
    "#xbg with parameter tuning\n",
    "xgbClass_tuned = XGBClassifier( \n",
    "                        subsample=0.9,\n",
    "                        colsample_bytree=0.8,\n",
    "                        n_estimators = 200,\n",
    "                        learning_rate = 0.01,\n",
    "                        max_depth = None,\n",
    "                        objective='binary:logistic',  \n",
    "                        eval_metric='logloss' \n",
    "                    )\n",
    "\n",
    "                    # Fit the model to your training data\n",
    "xgbClass_tuned.fit(X_train_val, y_train_val)\n",
    "\n",
    "# Make predictions on the val data\n",
    "y_pred = xgbClass_tuned.predict(X_val)\n",
    "f1 = f1_score(y_val, y_pred)\n",
    "y_true = y_val\n",
    "y_probas = xgbClass_tuned.predict_proba(X_val)[:, 1]\n",
    "roc_auc = roc_auc_score(y_true, y_probas)\n",
    "\n",
    "print(\"ROC_AUC: \" + str(roc_auc))\n",
    "print(\"F1: \" + str(f1))"
   ]
  },
  {
   "cell_type": "code",
   "execution_count": 210,
   "id": "d3260a0f",
   "metadata": {},
   "outputs": [
    {
     "name": "stdout",
     "output_type": "stream",
     "text": [
      "ROC_AUC: 0.9572096403104186\n",
      "F1: 0.8929862617498193\n"
     ]
    }
   ],
   "source": [
    "#run on test for best parameters\n",
    "xgbClass_tuned = XGBClassifier( \n",
    "                        subsample=0.9,\n",
    "                        colsample_bytree=0.8,\n",
    "                        n_estimators = 200,\n",
    "                        learning_rate = 0.01,\n",
    "                        max_depth = None,\n",
    "                        objective='binary:logistic',  \n",
    "                        eval_metric='logloss' \n",
    "                    )\n",
    "\n",
    "                    # Fit the model to your training data\n",
    "xgbClass_tuned.fit(X_train, y_train)\n",
    "\n",
    "# Make predictions on the test data\n",
    "y_pred = xgbClass_tuned.predict(X_test)\n",
    "f1 = f1_score(y_test, y_pred)\n",
    "y_true = y_test\n",
    "y_probas = xgbClass_tuned.predict_proba(X_test)[:, 1]\n",
    "\n",
    "roc_auc = roc_auc_score(y_true, y_probas)\n",
    "print(\"ROC_AUC: \" + str(roc_auc))\n",
    "print(\"F1: \" + str(f1))"
   ]
  },
  {
   "cell_type": "markdown",
   "id": "89d95efb",
   "metadata": {},
   "source": [
    "## Param Tuning Random Forest and testing on Test Set"
   ]
  },
  {
   "cell_type": "code",
   "execution_count": 211,
   "id": "63ffc9c0",
   "metadata": {},
   "outputs": [
    {
     "name": "stdout",
     "output_type": "stream",
     "text": [
      "Best Hyperparameters:\n",
      "n_estimators: 100\n",
      "max_depth: 10\n",
      "min_samples_split: 6\n",
      "min_samples_leaf: 1\n",
      "Best F1: 0.9135577797998179\n"
     ]
    }
   ],
   "source": [
    "# Define the hyperparameter values to search over\n",
    "n_estimators_values = [100, 200, 300]\n",
    "max_depth_values = [None, 2, 5, 10]\n",
    "min_samples_split_values = [2, 4, 6]\n",
    "min_samples_leaf_values = [1, 2, 3]\n",
    "\n",
    "# Initialize variables for best hyperparameters and best accuracy\n",
    "best_n_estimators = None\n",
    "best_max_depth = None\n",
    "best_min_samples_split = None\n",
    "best_min_samples_leaf = None\n",
    "best_accuracy = 0\n",
    "best_f1 = 0\n",
    "best_roc_auc = 0\n",
    "\n",
    "# Iterate over each combination of hyperparameters\n",
    "for n_estimators in n_estimators_values:\n",
    "    for max_depth in max_depth_values:\n",
    "        for min_samples_split in min_samples_split_values:\n",
    "            for min_samples_leaf in min_samples_leaf_values:\n",
    "                # Create a Random Forest classifier model with current hyperparameters\n",
    "                model = RandomForestClassifier(n_estimators=n_estimators, max_depth=max_depth,\n",
    "                                               min_samples_split=min_samples_split, min_samples_leaf=min_samples_leaf,\n",
    "                                               random_state=42)\n",
    "                \n",
    "                # Fit the model on the training data\n",
    "                model.fit(X_train_val, y_train_val)\n",
    "                \n",
    "                # Evaluate the model on the validation data\n",
    "                accuracy = model.score(X_val, y_val)\n",
    "\n",
    "                f1 = f1_score(y_val, model.predict(X_val))\n",
    "                roc_auc = roc_auc_score(y_val, model.predict_proba(X_val)[:, 1])\n",
    "                \n",
    "\n",
    "                if f1>best_f1:\n",
    "                    best_f1 = f1\n",
    "                    best_n_estimators = n_estimators\n",
    "                    best_max_depth = max_depth\n",
    "                    best_min_samples_split = min_samples_split\n",
    "                    best_min_samples_leaf = min_samples_leaf\n",
    "                    \n",
    "\n",
    "# Print the best hyperparameters and best F1\n",
    "print(\"Best Hyperparameters:\")\n",
    "print(\"n_estimators:\", best_n_estimators)\n",
    "print(\"max_depth:\", best_max_depth)\n",
    "print(\"min_samples_split:\", best_min_samples_split)\n",
    "print(\"min_samples_leaf:\", best_min_samples_leaf)\n",
    "print(\"Best F1:\", best_f1)\n"
   ]
  },
  {
   "cell_type": "code",
   "execution_count": 212,
   "id": "ed010fc7",
   "metadata": {},
   "outputs": [
    {
     "name": "stdout",
     "output_type": "stream",
     "text": [
      "ROC_AUC: 0.954916972319794\n",
      "F1: 0.8847006651884701\n"
     ]
    }
   ],
   "source": [
    "#model tuned and performed on test set\n",
    "rf_model_tuned = RandomForestClassifier(n_estimators=best_n_estimators, max_depth=best_max_depth,\n",
    "                               min_samples_split=best_min_samples_split, min_samples_leaf=best_min_samples_leaf,\n",
    "                               random_state=42)\n",
    "#fit model\n",
    "rf_model_tuned.fit(X_train, y_train)\n",
    "\n",
    "#gather predictions and f1 score/ROC_AUC score\n",
    "y_pred = rf_model_tuned.predict(X_test)\n",
    "f1 = f1_score(y_test, y_pred)\n",
    "y_true = y_test\n",
    "y_probas = rf_model_tuned.predict_proba(X_test)[:, 1]\n",
    "roc_auc = roc_auc_score(y_true, y_probas)\n",
    "\n",
    "print(\"ROC_AUC: \" + str(roc_auc))\n",
    "print(\"F1: \" + str(f1))"
   ]
  },
  {
   "cell_type": "code",
   "execution_count": null,
   "id": "a541517e",
   "metadata": {},
   "outputs": [],
   "source": []
  }
 ],
 "metadata": {
  "kernelspec": {
   "display_name": "Python 3 (ipykernel)",
   "language": "python",
   "name": "python3"
  },
  "language_info": {
   "codemirror_mode": {
    "name": "ipython",
    "version": 3
   },
   "file_extension": ".py",
   "mimetype": "text/x-python",
   "name": "python",
   "nbconvert_exporter": "python",
   "pygments_lexer": "ipython3",
   "version": "3.11.5"
  }
 },
 "nbformat": 4,
 "nbformat_minor": 5
}
